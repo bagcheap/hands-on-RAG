{
  "cells": [
    {
      "cell_type": "markdown",
      "source": [
        "#LlamaIndex"
      ],
      "metadata": {
        "id": "fDCAa5PbSbSc"
      },
      "id": "fDCAa5PbSbSc"
    },
    {
      "cell_type": "markdown",
      "id": "34d1f8e7-f978-4f19-bdfb-37c0d235b5bf",
      "metadata": {
        "id": "34d1f8e7-f978-4f19-bdfb-37c0d235b5bf"
      },
      "source": [
        "#### Notebook Setup"
      ]
    },
    {
      "cell_type": "code",
      "execution_count": 1,
      "id": "f227a52a-a147-4e8f-b7d3-e03f983fd5f1",
      "metadata": {
        "scrolled": true,
        "id": "f227a52a-a147-4e8f-b7d3-e03f983fd5f1",
        "colab": {
          "base_uri": "https://localhost:8080/"
        },
        "outputId": "22f7e70d-9d8b-4fb6-fb11-b34ed22a63e1"
      },
      "outputs": [
        {
          "output_type": "stream",
          "name": "stdout",
          "text": [
            "\u001b[2K     \u001b[90m━━━━━━━━━━━━━━━━━━━━━━━━━━━━━━━━━━━━━━━━\u001b[0m \u001b[32m15.4/15.4 MB\u001b[0m \u001b[31m22.2 MB/s\u001b[0m eta \u001b[36m0:00:00\u001b[0m\n",
            "\u001b[2K     \u001b[90m━━━━━━━━━━━━━━━━━━━━━━━━━━━━━━━━━━━━━━━━\u001b[0m \u001b[32m2.0/2.0 MB\u001b[0m \u001b[31m31.0 MB/s\u001b[0m eta \u001b[36m0:00:00\u001b[0m\n",
            "\u001b[2K     \u001b[90m━━━━━━━━━━━━━━━━━━━━━━━━━━━━━━━━━━━━━━━━\u001b[0m \u001b[32m229.3/229.3 kB\u001b[0m \u001b[31m12.7 MB/s\u001b[0m eta \u001b[36m0:00:00\u001b[0m\n",
            "\u001b[2K     \u001b[90m━━━━━━━━━━━━━━━━━━━━━━━━━━━━━━━━━━━━━━━━\u001b[0m \u001b[32m311.6/311.6 kB\u001b[0m \u001b[31m11.5 MB/s\u001b[0m eta \u001b[36m0:00:00\u001b[0m\n",
            "\u001b[2K     \u001b[90m━━━━━━━━━━━━━━━━━━━━━━━━━━━━━━━━━━━━━━━━\u001b[0m \u001b[32m75.6/75.6 kB\u001b[0m \u001b[31m6.7 MB/s\u001b[0m eta \u001b[36m0:00:00\u001b[0m\n",
            "\u001b[2K     \u001b[90m━━━━━━━━━━━━━━━━━━━━━━━━━━━━━━━━━━━━━━━━\u001b[0m \u001b[32m141.9/141.9 kB\u001b[0m \u001b[31m15.3 MB/s\u001b[0m eta \u001b[36m0:00:00\u001b[0m\n",
            "\u001b[2K     \u001b[90m━━━━━━━━━━━━━━━━━━━━━━━━━━━━━━━━━━━━━━━━\u001b[0m \u001b[32m1.8/1.8 MB\u001b[0m \u001b[31m38.1 MB/s\u001b[0m eta \u001b[36m0:00:00\u001b[0m\n",
            "\u001b[2K     \u001b[90m━━━━━━━━━━━━━━━━━━━━━━━━━━━━━━━━━━━━━━━━\u001b[0m \u001b[32m290.4/290.4 kB\u001b[0m \u001b[31m18.7 MB/s\u001b[0m eta \u001b[36m0:00:00\u001b[0m\n",
            "\u001b[2K     \u001b[90m━━━━━━━━━━━━━━━━━━━━━━━━━━━━━━━━━━━━━━━━\u001b[0m \u001b[32m2.8/2.8 MB\u001b[0m \u001b[31m23.9 MB/s\u001b[0m eta \u001b[36m0:00:00\u001b[0m\n",
            "\u001b[2K     \u001b[90m━━━━━━━━━━━━━━━━━━━━━━━━━━━━━━━━━━━━━━━━\u001b[0m \u001b[32m294.6/294.6 kB\u001b[0m \u001b[31m13.1 MB/s\u001b[0m eta \u001b[36m0:00:00\u001b[0m\n",
            "\u001b[2K     \u001b[90m━━━━━━━━━━━━━━━━━━━━━━━━━━━━━━━━━━━━━━━━\u001b[0m \u001b[32m77.9/77.9 kB\u001b[0m \u001b[31m7.8 MB/s\u001b[0m eta \u001b[36m0:00:00\u001b[0m\n",
            "\u001b[2K     \u001b[90m━━━━━━━━━━━━━━━━━━━━━━━━━━━━━━━━━━━━━━━━\u001b[0m \u001b[32m57.5/57.5 kB\u001b[0m \u001b[31m5.2 MB/s\u001b[0m eta \u001b[36m0:00:00\u001b[0m\n",
            "\u001b[2K     \u001b[90m━━━━━━━━━━━━━━━━━━━━━━━━━━━━━━━━━━━━━━━━\u001b[0m \u001b[32m58.3/58.3 kB\u001b[0m \u001b[31m5.3 MB/s\u001b[0m eta \u001b[36m0:00:00\u001b[0m\n",
            "\u001b[2K     \u001b[90m━━━━━━━━━━━━━━━━━━━━━━━━━━━━━━━━━━━━━━━━\u001b[0m \u001b[32m49.4/49.4 kB\u001b[0m \u001b[31m3.9 MB/s\u001b[0m eta \u001b[36m0:00:00\u001b[0m\n",
            "\u001b[?25h\u001b[31mERROR: pip's dependency resolver does not currently take into account all the packages that are installed. This behaviour is the source of the following dependency conflicts.\n",
            "tensorflow-metadata 1.14.0 requires protobuf<4.21,>=3.20.3, but you have protobuf 4.25.3 which is incompatible.\u001b[0m\u001b[31m\n",
            "\u001b[0m"
          ]
        }
      ],
      "source": [
        "%pip install llama-index llama-parse llama-index-vector-stores-qdrant -q"
      ]
    },
    {
      "cell_type": "code",
      "execution_count": 2,
      "id": "7bc383fc-19b2-47b5-af61-e83210ea9c37",
      "metadata": {
        "id": "7bc383fc-19b2-47b5-af61-e83210ea9c37"
      },
      "outputs": [],
      "source": [
        "import nest_asyncio\n",
        "\n",
        "nest_asyncio.apply()"
      ]
    },
    {
      "cell_type": "code",
      "source": [
        "!mkdir data\n",
        "!wget https://jonfernandes.github.io/files/digital-piano.pdf -O \"./data/digital-piano.pdf\""
      ],
      "metadata": {
        "colab": {
          "base_uri": "https://localhost:8080/"
        },
        "id": "6F42bkA3OXU7",
        "outputId": "144fb8e8-637a-4619-af61-372ae0117625"
      },
      "id": "6F42bkA3OXU7",
      "execution_count": 3,
      "outputs": [
        {
          "output_type": "stream",
          "name": "stdout",
          "text": [
            "--2024-04-29 14:31:24--  https://jonfernandes.github.io/files/digital-piano.pdf\n",
            "Resolving jonfernandes.github.io (jonfernandes.github.io)... 185.199.108.153, 185.199.109.153, 185.199.110.153, ...\n",
            "Connecting to jonfernandes.github.io (jonfernandes.github.io)|185.199.108.153|:443... connected.\n",
            "HTTP request sent, awaiting response... 200 OK\n",
            "Length: 11002048 (10M) [application/pdf]\n",
            "Saving to: ‘./data/digital-piano.pdf’\n",
            "\n",
            "./data/digital-pian 100%[===================>]  10.49M  --.-KB/s    in 0.1s    \n",
            "\n",
            "2024-04-29 14:31:38 (79.2 MB/s) - ‘./data/digital-piano.pdf’ saved [11002048/11002048]\n",
            "\n"
          ]
        }
      ]
    },
    {
      "cell_type": "code",
      "source": [
        "!ls -la ./data"
      ],
      "metadata": {
        "colab": {
          "base_uri": "https://localhost:8080/"
        },
        "id": "e3c7ixD5Pofb",
        "outputId": "a5f039e8-4940-4b92-de0d-78d2b72b7d05"
      },
      "id": "e3c7ixD5Pofb",
      "execution_count": 4,
      "outputs": [
        {
          "output_type": "stream",
          "name": "stdout",
          "text": [
            "total 10756\n",
            "drwxr-xr-x 2 root root     4096 Apr 29 14:31 .\n",
            "drwxr-xr-x 1 root root     4096 Apr 29 14:31 ..\n",
            "-rw-r--r-- 1 root root 11002048 Jan 12 12:09 digital-piano.pdf\n"
          ]
        }
      ]
    },
    {
      "cell_type": "code",
      "source": [
        "import openai\n",
        "\n",
        "openai.api_key=\"\""
      ],
      "metadata": {
        "id": "-y-c0CCBJNfk"
      },
      "id": "-y-c0CCBJNfk",
      "execution_count": 5,
      "outputs": []
    },
    {
      "cell_type": "code",
      "execution_count": 6,
      "id": "25d4ce76-8eea-44cb-aa99-94844dfed9c7",
      "metadata": {
        "id": "25d4ce76-8eea-44cb-aa99-94844dfed9c7",
        "colab": {
          "base_uri": "https://localhost:8080/"
        },
        "outputId": "c4e937c5-b440-4f97-f1f5-96bc3e19207f"
      },
      "outputs": [
        {
          "output_type": "stream",
          "name": "stdout",
          "text": [
            "To adjust the volume on a Roland F-120 digital piano, you typically use the volume control knob or slider located on the piano's control panel. For the Roland F-120, the volume control is straightforward and easy to use. Here's how you can do it:\n",
            "\n",
            "1. **Locate the Volume Control**: Look for the volume knob on the left side of the keyboard panel. It's usually positioned near the keyboard's edge, making it easily accessible during play.\n",
            "\n",
            "2. **Adjust the Volume**: Simply turn the knob clockwise to increase the volume and counterclockwise to decrease the volume. The adjustment is analog, meaning you can set it to any level between the minimum and maximum volume levels, allowing for precise control over how loud the piano sounds.\n",
            "\n",
            "3. **Test the Volume**: After adjusting, play a few notes or a piece of music to test the volume level. Adjust further if needed until you reach the desired volume.\n",
            "\n",
            "If you're using headphones with the Roland F-120, the volume knob will also control the headphone volume when they are plugged in. This allows you to practice at any time without disturbing others.\n",
            "\n",
            "Remember, it's important to keep the volume at a comfortable level to avoid hearing damage, especially during prolonged use.\n",
            "\n",
            "If you encounter any issues with the volume control not working as expected, refer to the Roland F-120 user manual for troubleshooting tips or contact Roland support for assistance. Sometimes, issues can arise from software glitches or hardware malfunctions, but these are relatively rare.\n"
          ]
        }
      ],
      "source": [
        "from llama_index.llms.openai import OpenAI\n",
        "\n",
        "\n",
        "llm = OpenAI(model=\"gpt-4-turbo-preview\")\n",
        "\n",
        "response = llm.complete(\n",
        "    \"How do you change the volume on a Roland F-120\"\n",
        ")\n",
        "print(response)"
      ]
    },
    {
      "cell_type": "code",
      "execution_count": 7,
      "id": "80b2f9c3-1e07-4178-9e7e-220355725955",
      "metadata": {
        "id": "80b2f9c3-1e07-4178-9e7e-220355725955",
        "colab": {
          "base_uri": "https://localhost:8080/"
        },
        "outputId": "a7287032-a5c7-4f6a-94ab-d8ecaf68e555"
      },
      "outputs": [
        {
          "output_type": "stream",
          "name": "stdout",
          "text": [
            "To provide you with accurate instructions on how to play a demo piece, I would need to know the specific device, instrument, or software you are referring to. The process can vary significantly depending on the context. For example, playing a demo piece on a digital piano involves different steps than playing a demo on music production software or a synthesizer.\n",
            "\n",
            "However, I can offer a general guide that applies to many electronic musical instruments, such as keyboards or digital pianos:\n",
            "\n",
            "1. **Turn on the Device**: Ensure the instrument or device is connected to power and turned on.\n",
            "\n",
            "2. **Select Demo Mode**: Look for a button or menu option labeled \"Demo,\" \"Song,\" or something similar. This might involve pressing a specific button directly or navigating through a menu using a screen and selector buttons.\n",
            "\n",
            "3. **Choose a Demo Piece**: Some devices will start playing a demo piece immediately upon entering demo mode. Others may require you to select a specific piece from a list. This could involve pressing additional buttons or keys, turning a dial, or selecting an option on a screen.\n",
            "\n",
            "4. **Play the Demo**: Once you've selected the demo piece, it may start automatically, or you might need to press a \"Play\" button. On some devices, starting a demo piece is as simple as pressing a specific key on the keyboard.\n",
            "\n",
            "5. **Adjust Volume**: Ensure the volume is at a comfortable listening level. There should be volume controls on your device.\n",
            "\n",
            "6. **Exit Demo Mode**: After the demo piece has finished playing, you can exit demo mode by pressing the \"Stop\" button, selecting another mode (like \"Voice\" or \"Style\" mode), or simply turning the device off and on again.\n",
            "\n",
            "If you're referring to software or a specific model of an instrument, the process could involve opening a demo project file from the software's menu or selecting a demo option from the instrument's interface.\n",
            "\n",
            "For the most accurate instructions, it's best to consult the manual specific to your device or software. If you can provide more details about what you're asking, I could give you a more tailored answer.\n"
          ]
        }
      ],
      "source": [
        "response = llm.complete(\n",
        "    \"According to the manual, how do you play a demo piece?\"\n",
        ")\n",
        "print(response)"
      ]
    },
    {
      "cell_type": "markdown",
      "source": [
        "## 1. Build External Knowledge"
      ],
      "metadata": {
        "id": "znBIfLbMLGvx"
      },
      "id": "znBIfLbMLGvx"
    },
    {
      "cell_type": "markdown",
      "source": [
        "With llama-index, before any transformations are applied,\n",
        "data is loaded in the `Document` abstraction, which is\n",
        "a container that holds the text of the document."
      ],
      "metadata": {
        "id": "hQctNSzYUuw8"
      },
      "id": "hQctNSzYUuw8"
    },
    {
      "cell_type": "code",
      "execution_count": 8,
      "id": "a2963f90-9da5-4a0d-8dbe-f16fcb8627a3",
      "metadata": {
        "id": "a2963f90-9da5-4a0d-8dbe-f16fcb8627a3"
      },
      "outputs": [],
      "source": [
        "from llama_index.core import SimpleDirectoryReader\n",
        "\n",
        "loader = SimpleDirectoryReader(input_dir=\"./data\")\n",
        "documents = loader.load_data()"
      ]
    },
    {
      "cell_type": "code",
      "execution_count": 9,
      "id": "da321e2c-8428-4c04-abf2-b204416e816f",
      "metadata": {
        "id": "da321e2c-8428-4c04-abf2-b204416e816f",
        "outputId": "ce933a89-b387-4f95-f0dc-a102ce87176a",
        "colab": {
          "base_uri": "https://localhost:8080/",
          "height": 142
        }
      },
      "outputs": [
        {
          "output_type": "execute_result",
          "data": {
            "text/plain": [
              "'2\\n&&Look What You Can Do!\\n&&Personalize  Your Piano\\n&eAdjust the keyboard touch\\nYou can adjust the touch sensitivity of the keyboard to match \\nyour own playing style.\\n&eAdd reverberation\\nYou can add reverberation (reverb) to create the sensation of performing in a concert hall.\\ng p. 9\\ng p. 9&&Play  the Piano\\n&ePlay using various sounds\\nThis unit contains a wide variety of tones (sounds). You can freely select and perform using these tones.\\n&eSound a metronome\\nYou can sound a metronome.\\n&ePlay duets\\nYou can divide the keyboard into left and right halves, playing it as though it were two pianos.\\ng p. 7\\ng p. 7\\ng p. 8&&Play and Record Songs\\n&ePlay the built-in songs\\nThis unit contains numerous built-in songs. For the song titles, refer to “Internal Song List” (p. 19).\\n&ePlay back individual parts\\nYou can practice along with a song while listening to only the right-hand or left-hand part play back.\\n&eRecord your performance\\nYou can record your own performances.\\ng p. 10\\ng p. 10\\ng p. 11\\n&eAdjust the brightness\\nYou can adjust the tone quality of the sound, ranging from a brilliant timbre to a mellow tone.\\n&eShift the keyboard pitch\\nYou can use the Transpose function to transpose the keyboard in semitone steps.\\ng p. 9\\ng p. 13'"
            ],
            "application/vnd.google.colaboratory.intrinsic+json": {
              "type": "string"
            }
          },
          "metadata": {},
          "execution_count": 9
        }
      ],
      "source": [
        "#This is what the text looks like\n",
        "documents[1].text"
      ]
    },
    {
      "cell_type": "markdown",
      "source": [
        "Chunk, Encode, and Store into a Vector Store.\n",
        "\n",
        "- To streamline the process, use the IngestionPipeline\n",
        "class that will apply your specified transformations to the\n",
        "Document's."
      ],
      "metadata": {
        "id": "MaEOE4mIU3ia"
      },
      "id": "MaEOE4mIU3ia"
    },
    {
      "cell_type": "code",
      "execution_count": 10,
      "id": "4801e74a-8c52-45c4-967d-7a1a94f54ad3",
      "metadata": {
        "id": "4801e74a-8c52-45c4-967d-7a1a94f54ad3"
      },
      "outputs": [],
      "source": [
        "from llama_index.core.ingestion import IngestionPipeline\n",
        "from llama_index.core.node_parser import SentenceSplitter\n",
        "from llama_index.embeddings.openai import OpenAIEmbedding\n",
        "from llama_index.vector_stores.qdrant import QdrantVectorStore\n",
        "import qdrant_client\n",
        "\n",
        "client = qdrant_client.QdrantClient(location=\":memory:\")\n",
        "vector_store = QdrantVectorStore(client=client, collection_name=\"test_store\")\n",
        "\n",
        "pipeline = IngestionPipeline(\n",
        "    transformations = [\n",
        "        SentenceSplitter(),\n",
        "        OpenAIEmbedding(),\n",
        "    ],\n",
        "    vector_store=vector_store,\n",
        ")\n",
        "_nodes = pipeline.run(documents=documents, num_workers=2)"
      ]
    },
    {
      "cell_type": "code",
      "source": [
        "len(_nodes)"
      ],
      "metadata": {
        "colab": {
          "base_uri": "https://localhost:8080/"
        },
        "id": "iz8p6EVIVB4p",
        "outputId": "0a7fba37-422e-4dc5-ba3b-dfa446ed1c96"
      },
      "id": "iz8p6EVIVB4p",
      "execution_count": 11,
      "outputs": [
        {
          "output_type": "execute_result",
          "data": {
            "text/plain": [
              "47"
            ]
          },
          "metadata": {},
          "execution_count": 11
        }
      ]
    },
    {
      "cell_type": "code",
      "execution_count": 12,
      "id": "02afea25-098b-49c7-a965-21c7576757af",
      "metadata": {
        "id": "02afea25-098b-49c7-a965-21c7576757af",
        "outputId": "5b5e49fa-7ca2-41d4-dce4-1483daace73a",
        "colab": {
          "base_uri": "https://localhost:8080/",
          "height": 142
        }
      },
      "outputs": [
        {
          "output_type": "execute_result",
          "data": {
            "text/plain": [
              "'2\\n&&Look What You Can Do!\\n&&Personalize  Your Piano\\n&eAdjust the keyboard touch\\nYou can adjust the touch sensitivity of the keyboard to match \\nyour own playing style.\\n&eAdd reverberation\\nYou can add reverberation (reverb) to create the sensation of performing in a concert hall.\\ng p. 9\\ng p. 9&&Play  the Piano\\n&ePlay using various sounds\\nThis unit contains a wide variety of tones (sounds). You can freely select and perform using these tones.\\n&eSound a metronome\\nYou can sound a metronome.\\n&ePlay duets\\nYou can divide the keyboard into left and right halves, playing it as though it were two pianos.\\ng p. 7\\ng p. 7\\ng p. 8&&Play and Record Songs\\n&ePlay the built-in songs\\nThis unit contains numerous built-in songs. For the song titles, refer to “Internal Song List” (p. 19).\\n&ePlay back individual parts\\nYou can practice along with a song while listening to only the right-hand or left-hand part play back.\\n&eRecord your performance\\nYou can record your own performances.\\ng p. 10\\ng p. 10\\ng p. 11\\n&eAdjust the brightness\\nYou can adjust the tone quality of the sound, ranging from a brilliant timbre to a mellow tone.\\n&eShift the keyboard pitch\\nYou can use the Transpose function to transpose the keyboard in semitone steps.\\ng p. 9\\ng p. 13'"
            ],
            "application/vnd.google.colaboratory.intrinsic+json": {
              "type": "string"
            }
          },
          "metadata": {},
          "execution_count": 12
        }
      ],
      "source": [
        "_nodes[1].text"
      ]
    },
    {
      "cell_type": "markdown",
      "source": [
        "Create a Index.\n",
        "\n",
        "- Upload encoded documents into vector store\n",
        "- Connect to it with a VectorStoreIndex\n"
      ],
      "metadata": {
        "id": "XC5vT0p2RvED"
      },
      "id": "XC5vT0p2RvED"
    },
    {
      "cell_type": "code",
      "execution_count": 13,
      "id": "44cd8a86-089d-4329-9484-35b98b3a26f9",
      "metadata": {
        "id": "44cd8a86-089d-4329-9484-35b98b3a26f9"
      },
      "outputs": [],
      "source": [
        "from llama_index.core import VectorStoreIndex\n",
        "\n",
        "index = VectorStoreIndex.from_vector_store(vector_store=vector_store)"
      ]
    },
    {
      "cell_type": "markdown",
      "id": "286b1827-7547-49c6-aba3-82f08d6d86b8",
      "metadata": {
        "id": "286b1827-7547-49c6-aba3-82f08d6d86b8"
      },
      "source": [
        "## 2. Retrieve Against A Query\n"
      ]
    },
    {
      "cell_type": "code",
      "execution_count": 14,
      "id": "49f86af1-db08-4641-89ad-d60abd04e6b3",
      "metadata": {
        "id": "49f86af1-db08-4641-89ad-d60abd04e6b3"
      },
      "outputs": [],
      "source": [
        "retriever = index.as_retriever(similarity_top_k=2)\n",
        "retrieved_nodes = retriever.retrieve(\n",
        "    \"How can you play a demo piece?\"\n",
        ")"
      ]
    },
    {
      "cell_type": "code",
      "execution_count": 15,
      "id": "06b04a79-2a28-4a21-b15b-4bb6c7b1a227",
      "metadata": {
        "id": "06b04a79-2a28-4a21-b15b-4bb6c7b1a227",
        "outputId": "f7449e8e-50cd-41d1-cfbd-1654c467773c",
        "colab": {
          "base_uri": "https://localhost:8080/"
        }
      },
      "outputs": [
        {
          "output_type": "execute_result",
          "data": {
            "text/plain": [
              "[NodeWithScore(node=TextNode(id_='bac74254-f207-412a-adc8-a3acb0a43dd7', embedding=None, metadata={'page_label': '10', 'file_name': 'digital-piano.pdf', 'file_path': '/content/data/digital-piano.pdf', 'file_type': 'application/pdf', 'file_size': 11002048, 'creation_date': '2024-04-29', 'last_modified_date': '2024-01-12'}, excluded_embed_metadata_keys=['file_name', 'file_type', 'file_size', 'creation_date', 'last_modified_date', 'last_accessed_date'], excluded_llm_metadata_keys=['file_name', 'file_type', 'file_size', 'creation_date', 'last_modified_date', 'last_accessed_date'], relationships={<NodeRelationship.SOURCE: '1'>: RelatedNodeInfo(node_id='f97f5e2a-308b-4d1b-afc5-f7fc2436ea7c', node_type=<ObjectType.DOCUMENT: '4'>, metadata={'page_label': '10', 'file_name': 'digital-piano.pdf', 'file_path': '/content/data/digital-piano.pdf', 'file_type': 'application/pdf', 'file_size': 11002048, 'creation_date': '2024-04-29', 'last_modified_date': '2024-01-12'}, hash='bad22a58ae7dca249aa4ba90d3b365890160413dfba71ba75d18677f9228dcb4'), <NodeRelationship.PREVIOUS: '2'>: RelatedNodeInfo(node_id='51fa76b9-0d5d-4d20-87f3-e01ecea5b75a', node_type=<ObjectType.TEXT: '1'>, metadata={'page_label': '9', 'file_name': 'digital-piano.pdf', 'file_path': '/content/data/digital-piano.pdf', 'file_type': 'application/pdf', 'file_size': 11002048, 'creation_date': '2024-04-29', 'last_modified_date': '2024-01-12'}, hash='94866ad2b08c974c0a37279b417b68347e0320c4fb3dd171502dbb7c3962aafa'), <NodeRelationship.NEXT: '3'>: RelatedNodeInfo(node_id='a2ea2632-86da-4496-850c-8060ce7e6f0a', node_type=<ObjectType.TEXT: '1'>, metadata={}, hash='2bc3cb72b9e829aa5c008a13ed2d31a49a0e0103e8d809e94714debfdbab8661')}, text='10&&Playing Back Songs\\nLet’s try listening to the internal songs and the songs recorded \\nin internal memory. For the titles of the internal songs, refer to “Internal Song List” (p. 19).\\nPlay back a song\\n1. Press the [Song] button so it’s lit  .\\nThe song will begin playing. When the song has finished playing to the end, it will stop.\\nDuring playback, the display will indicate the currently playing \\nmeasure of the song.\\n    2.     1.\\nMeasure number and dot shown\\nFast-forward or fast-reverse the song\\n1. While the song is playing, press the [–] [+] buttons  .\\nThis allows you to fast-forward or fast-reverse the song.  The measure indication in the display will increase or decrease each time you press the button.  By holding down a button, you can rapidly increase or decrease the measure number.\\nStop the song\\n1. Press the [Song] button so its light goes out  .\\nThe song will stop.\\nSelect a song\\nWhile the song is stopped, the display will indicate the song number.\\na.01\\n• Song numbers beginning with “ a, b, c” are internal \\nsongs.\\n• Song numbers beginning with “ U” are songs you’ve \\nrecorded in internal memory.\\n1. When the song number is displayed, press the [–] [+] buttons  .\\nThis allows you to select a song. If you’ve stopped in the middle of a song, you can press the [–] button to return to the beginning of the song.\\na.01 c.20 U.10 U.01Recorded songs Internal songs\\n* The songs in internal memory ( U.01  – U.10 ) will not be shown if \\nthey have not been recorded.\\n* For the titles of the internal songs, refer to “Internal Song List” (p. 19).Play songs consecutively\\n1. Hold down the Piano [Ensemble] button and press the \\n[Song] button .\\nThe songs will be played back successively.  \\nWhen the currently playing song ends, the next song will play.\\nPlaying Parts (Left/Right Hand) \\nSeparately\\nYou can select and play back the parts (left-hand or right-hand) \\nseparately. This is a convenient way to practice by playing along with a song one hand at a time.\\n1. Hold down the [Song] button and press the [–] [+] buttons to select the part that you want to play back  .\\nButton Lit/Unlit Explanation\\n[–] button \\n(left-hand part)Lit Left-hand part will sound\\nUnlitLeft-hand part is muted  \\n(or contains no performance data)\\n[+] button (right-hand part)Lit Right-hand part will sound\\nUnlitRight-hand part is muted  (or contains no performance data)\\n* This setting will be cancelled if you select another song.\\nMEMO\\nThe parts (left-hand / right-hand) are indicated as follows for the internal songs (a, b, c) and the songs you’ve recorded (U).\\nSongs Left-Hand Part Right-Hand Part\\nInternal Songs (a, b, c) Left-hand part Right-hand part\\nRecorded Songs (U)Twin Piano (p. 8) Left-hand piano Right-hand piano\\nSplit Tones (p. 18) Left-hand tone Right-hand tone\\nOthersNo performance dataAll parts (both hands)\\nSounding a Count Before Playback\\nIf you’re playing along with a song, it will be easier to synchronize your playing with the song if a count is sounded before playback begins.\\n1. Press the [Metronome] button to turn on the metronome (p . 7) .\\n2. Press the [Song] button to play back the song  .\\nA two-measure count will sound before the song plays.\\nDuring the count, measure numbers “ -2” and then “ -1” will appear \\nin the display.', start_char_idx=0, end_char_idx=3246, text_template='{metadata_str}\\n\\n{content}', metadata_template='{key}: {value}', metadata_seperator='\\n'), score=0.8099888293057356),\n",
              " NodeWithScore(node=TextNode(id_='a2ea2632-86da-4496-850c-8060ce7e6f0a', embedding=None, metadata={'page_label': '11', 'file_name': 'digital-piano.pdf', 'file_path': '/content/data/digital-piano.pdf', 'file_type': 'application/pdf', 'file_size': 11002048, 'creation_date': '2024-04-29', 'last_modified_date': '2024-01-12'}, excluded_embed_metadata_keys=['file_name', 'file_type', 'file_size', 'creation_date', 'last_modified_date', 'last_accessed_date'], excluded_llm_metadata_keys=['file_name', 'file_type', 'file_size', 'creation_date', 'last_modified_date', 'last_accessed_date'], relationships={<NodeRelationship.SOURCE: '1'>: RelatedNodeInfo(node_id='d0251d54-a630-4e0f-9248-d1d337869fff', node_type=<ObjectType.DOCUMENT: '4'>, metadata={'page_label': '11', 'file_name': 'digital-piano.pdf', 'file_path': '/content/data/digital-piano.pdf', 'file_type': 'application/pdf', 'file_size': 11002048, 'creation_date': '2024-04-29', 'last_modified_date': '2024-01-12'}, hash='e5a926aa109a5b2a6323b23ac82e2ac07cae49643f45d6f2c0e536fddb4917a0'), <NodeRelationship.PREVIOUS: '2'>: RelatedNodeInfo(node_id='bac74254-f207-412a-adc8-a3acb0a43dd7', node_type=<ObjectType.TEXT: '1'>, metadata={'page_label': '10', 'file_name': 'digital-piano.pdf', 'file_path': '/content/data/digital-piano.pdf', 'file_type': 'application/pdf', 'file_size': 11002048, 'creation_date': '2024-04-29', 'last_modified_date': '2024-01-12'}, hash='bad22a58ae7dca249aa4ba90d3b365890160413dfba71ba75d18677f9228dcb4'), <NodeRelationship.NEXT: '3'>: RelatedNodeInfo(node_id='74384d1f-ad88-4a92-a020-221efac0e747', node_type=<ObjectType.TEXT: '1'>, metadata={}, hash='24f8282dc74a86bdccef63e5755376fd02586fbd196edd920e5b7f5dc6086aa1')}, text='11\\nDeutsc h English Françai s Italiano Español Português Nederlands&&Recording\\nYou can record your performances.\\nYou can play back a performance you have recorded to check what \\nand how you played, and play melodies on the keyboard along with prerecorded accompaniment.\\nGetting ready to record\\n1. Select the tone that you want to play (p  . 7) .\\n2. Sound the metronome if desired  .\\nPress the [Metronome] button.\\nWhile the metronome is sounding, specify the tempo and time \\nsignature of the song (p. 7).\\nEntering recording-standby mode\\n3. Hold down the [Metronome] button and press the [Song] button .\\nThe [Song] button will blink; the unit will enter recording-standby mode.\\nMEMO\\nIf you decide not to record (i.e., if you want to exit recording-standby mode), hold down the [Metronome] button once again and press the [Song] button.\\nSelecting the song number to record\\n4. Press the [–] [+] buttons to select the song number (u01 –\\nu10) that you want to record  .\\nu01\\nA song with no recorded data (empty song)\\n• Song number shown with lowercase “ u”\\n• No dot shown\\nU.01\\nA song with recorded data• Song number shown with uppercase “\\nU”\\n• Dot shown\\nNOTE!\\nIf you select a song that already contains data (song number \\nwith an uppercase “U”) and record, the previously recorded \\ndata will be lost.\\nStarting recording\\n5. Press the [Song] button .\\nA two-measure count will sound, and then recording will start.\\nDuring the count, measure numbers “ -2” and then “ -1” will appear \\nin the display.\\nIf you don’t want a count to sound before recording\\nRecording will start automatically if you play the keyboard \\nwhile in recording-standby mode.\\nStopping recording\\n6. Press the [Song] button .\\nRecording will stop.\\nThe song will automatically be saved when you stop recording.\\n* While the song is being saved, an animation of a rotating “ o” \\nsymbol will appear in the display for several seconds. Do not \\nturn off the power during this time. Doing so might cause the saved song to be lost.\\nWhen saving has been completed, the [Song] button will go out.\\nListening to the recorded song\\nAfter recording, you can press the [Song] button to immediately play back the recorded song. For details on song playback methods, refer to “Playing Back Songs” (p. 10).\\nIf you want to re-do the recording\\nYou can repeat the procedure from step 1 on this page to re-record at the same song number.\\nIf you want to erase the recorded song\\nYou can erase a song by recording an empty song as follows.\\n• Repeat the procedure from step 3 on this page.\\n• In step 4 of the procedure, select the song number that you want to erase.\\n• In step 5, press the [Song] button to hear the two-\\nmeasure count, and then press the [Song] button \\nwithout playing the keyboard.\\nA song containing no notes will be recorded; the song has \\nbeen erased.', start_char_idx=0, end_char_idx=2800, text_template='{metadata_str}\\n\\n{content}', metadata_template='{key}: {value}', metadata_seperator='\\n'), score=0.803089602553669)]"
            ]
          },
          "metadata": {},
          "execution_count": 15
        }
      ],
      "source": [
        "#View the retrieved nodes\n",
        "retrieved_nodes"
      ]
    },
    {
      "cell_type": "markdown",
      "id": "978ae2c5-8c2a-41c7-a2eb-85a5562f2db5",
      "metadata": {
        "id": "978ae2c5-8c2a-41c7-a2eb-85a5562f2db5"
      },
      "source": [
        "## 3. Generate Final Response\n"
      ]
    },
    {
      "cell_type": "code",
      "execution_count": 21,
      "id": "ef33c349-eed4-4e35-9b5d-9473adf2ce01",
      "metadata": {
        "id": "ef33c349-eed4-4e35-9b5d-9473adf2ce01"
      },
      "outputs": [],
      "source": [
        "query_engine = index.as_query_engine()"
      ]
    },
    {
      "cell_type": "code",
      "execution_count": 22,
      "id": "4139c48a-ece8-4244-b4eb-7cff74cb1325",
      "metadata": {
        "id": "4139c48a-ece8-4244-b4eb-7cff74cb1325",
        "outputId": "d4544ce0-43ea-48dc-9245-b5a3020770fd",
        "colab": {
          "base_uri": "https://localhost:8080/"
        }
      },
      "outputs": [
        {
          "output_type": "stream",
          "name": "stdout",
          "text": [
            "Context information is below.\n",
            "---------------------\n",
            "{context_str}\n",
            "---------------------\n",
            "Given the context information and not prior knowledge, answer the query.\n",
            "Query: {query_str}\n",
            "Answer: \n"
          ]
        }
      ],
      "source": [
        "# to inspect the default prompt being used\n",
        "print(query_engine.\n",
        "      get_prompts()[\"response_synthesizer:text_qa_template\"]\n",
        "      .default_template.template\n",
        ")"
      ]
    },
    {
      "cell_type": "code",
      "execution_count": 18,
      "id": "6179639d-af96-4a09-b440-b47ad599a26f",
      "metadata": {
        "id": "6179639d-af96-4a09-b440-b47ad599a26f",
        "outputId": "abcb0fb3-6cab-491a-94ee-b4760b3cf050",
        "colab": {
          "base_uri": "https://localhost:8080/"
        }
      },
      "outputs": [
        {
          "output_type": "stream",
          "name": "stdout",
          "text": [
            "To play a demo piece, you can press the [Song] button so it's lit. The song will begin playing, and the display will indicate the currently playing measure of the song. You can fast-forward or fast-reverse the song by pressing the [–] [+] buttons while the song is playing. To stop the song, press the [Song] button so its light goes out. If you want to play songs consecutively, you can hold down the Piano [Ensemble] button and press the [Song] button.\n"
          ]
        }
      ],
      "source": [
        "response = query_engine.query(\n",
        "              \"How can you play a demo piece?\"\n",
        ")\n",
        "print(response)"
      ]
    },
    {
      "cell_type": "markdown",
      "id": "a050bb7f-266c-46c7-8773-eccb909e5fd6",
      "metadata": {
        "id": "a050bb7f-266c-46c7-8773-eccb909e5fd6"
      },
      "source": [
        "## More Queries"
      ]
    },
    {
      "cell_type": "markdown",
      "id": "20be9033-f240-4505-9761-29e9455c8974",
      "metadata": {
        "id": "20be9033-f240-4505-9761-29e9455c8974"
      },
      "source": [
        "### Comparisons"
      ]
    },
    {
      "cell_type": "code",
      "execution_count": 19,
      "id": "c86e99c2-601e-443e-aed2-ebe25106a966",
      "metadata": {
        "id": "c86e99c2-601e-443e-aed2-ebe25106a966",
        "outputId": "44486470-d5cb-4029-d284-de42b7239133",
        "colab": {
          "base_uri": "https://localhost:8080/"
        }
      },
      "outputs": [
        {
          "output_type": "stream",
          "name": "stdout",
          "text": [
            "To select a grand piano, you can press the [Grand] button on the digital piano.\n"
          ]
        }
      ],
      "source": [
        "query = (\n",
        "    \"How can I select a grand piano?\"\n",
        ")\n",
        "\n",
        "response = query_engine.query(query)\n",
        "print(response)"
      ]
    },
    {
      "cell_type": "code",
      "execution_count": 20,
      "id": "b02d9ae9-42ed-4f6e-8c2f-709d7e97dd22",
      "metadata": {
        "id": "b02d9ae9-42ed-4f6e-8c2f-709d7e97dd22",
        "outputId": "87cdbb35-11f4-4978-862b-58d5f462736f",
        "colab": {
          "base_uri": "https://localhost:8080/"
        }
      },
      "outputs": [
        {
          "output_type": "stream",
          "name": "stdout",
          "text": [
            "To turn the power off, you should first turn the [Volume] knob all the way toward the left to minimize the volume. Then, you need to turn the [Power] switch OFF. If you do not want the power to turn off automatically, you can turn off the \"Auto Off\" setting.\n"
          ]
        }
      ],
      "source": [
        "query = (\n",
        "    \"How can I turn the power off?\"\n",
        ")\n",
        "\n",
        "response = query_engine.query(query)\n",
        "print(response)"
      ]
    }
  ],
  "metadata": {
    "kernelspec": {
      "display_name": "mlops",
      "language": "python",
      "name": "mlops"
    },
    "language_info": {
      "codemirror_mode": {
        "name": "ipython",
        "version": 3
      },
      "file_extension": ".py",
      "mimetype": "text/x-python",
      "name": "python",
      "nbconvert_exporter": "python",
      "pygments_lexer": "ipython3",
      "version": "3.11.3"
    },
    "colab": {
      "provenance": []
    }
  },
  "nbformat": 4,
  "nbformat_minor": 5
}